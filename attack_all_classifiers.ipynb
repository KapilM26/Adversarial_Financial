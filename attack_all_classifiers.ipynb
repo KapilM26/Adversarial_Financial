{
  "nbformat": 4,
  "nbformat_minor": 0,
  "metadata": {
    "colab": {
      "provenance": []
    },
    "kernelspec": {
      "name": "python3",
      "display_name": "Python 3"
    },
    "language_info": {
      "name": "python"
    }
  },
  "cells": [
    {
      "cell_type": "code",
      "execution_count": 1,
      "metadata": {
        "id": "YyLfEDZ053Eu"
      },
      "outputs": [],
      "source": [
        "import os\n",
        "import subprocess\n",
        "\n",
        "def main():\n",
        "    base_dir = \"../experiments/attacks\"\n",
        "\n",
        "    # Remove and recreate the base directory\n",
        "    if os.path.exists(base_dir):\n",
        "        os.system(f\"rm -rf {base_dir}\")\n",
        "    os.makedirs(base_dir)\n",
        "\n",
        "    dataset_names = [\"age\", \"age_short\", \"age_tinkoff\", \"rosbank\"]\n",
        "    target_classifiers = [\"gru_with_amounts\", \"lstm_with_amounts\", \"cnn_with_amounts\"]\n",
        "    substitute_classifiers = [\"gru_with_amounts\", \"lstm_with_amounts\", \"cnn_with_amounts\"]\n",
        "\n",
        "    for dataset_name in dataset_names:\n",
        "        dataset_path = os.path.join(base_dir, dataset_name)\n",
        "        os.makedirs(dataset_path, exist_ok=True)\n",
        "\n",
        "        for targ_clf in target_classifiers:\n",
        "            targ_path = os.path.join(dataset_path, f\"targ_{targ_clf}\")\n",
        "            os.makedirs(targ_path, exist_ok=True)\n",
        "\n",
        "            for subst_clf in substitute_classifiers:\n",
        "                subst_path = os.path.join(targ_path, f\"subst_{subst_clf}\")\n",
        "                os.makedirs(subst_path, exist_ok=True)\n",
        "\n",
        "                # Run the bash script with subprocess\n",
        "                subprocess.run([\"bash\", \"scripts/local/attack.sh\", subst_clf, targ_clf, \"500\", dataset_name])\n",
        "\n",
        "if __name__ == \"__main__\":\n",
        "    main()\n"
      ]
    }
  ]
}